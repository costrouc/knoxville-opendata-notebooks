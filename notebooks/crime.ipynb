{
 "cells": [
  {
   "cell_type": "code",
   "execution_count": 102,
   "metadata": {},
   "outputs": [],
   "source": [
    "import sys\n",
    "sys.path.append('../')\n",
    "\n",
    "import datetime as dt\n",
    "from collections import defaultdict\n",
    "\n",
    "import matplotlib.pyplot as plt\n",
    "import pandas as pd\n",
    "\n",
    "from requests_html import HTML\n",
    "import requests_cache\n",
    "import requests\n",
    "import json\n",
    "\n",
    "import knoxdata"
   ]
  },
  {
   "cell_type": "code",
   "execution_count": 137,
   "metadata": {},
   "outputs": [
    {
     "data": {
      "text/plain": [
       "<Response [200]>"
      ]
     },
     "execution_count": 137,
     "metadata": {},
     "output_type": "execute_result"
    }
   ],
   "source": [
    "session = requests.session()\n",
    "session.get('http://communitycrimemap.com/?address=Knoxville,TN')"
   ]
  },
  {
   "cell_type": "code",
   "execution_count": 138,
   "metadata": {},
   "outputs": [
    {
     "data": {
      "text/plain": [
       "<RequestsCookieJar[Cookie(version=0, name='JSESSIONID', value='84CFE3DA8DB4EE7210761B0C871DC45B.APP101', port=None, port_specified=False, domain='communitycrimemap.com', domain_specified=False, domain_initial_dot=False, path='/', path_specified=True, secure=False, expires=None, discard=True, comment=None, comment_url=None, rest={'HttpOnly': None}, rfc2109=False)]>"
      ]
     },
     "execution_count": 138,
     "metadata": {},
     "output_type": "execute_result"
    }
   ],
   "source": [
    "session.cookies"
   ]
  },
  {
   "cell_type": "code",
   "execution_count": 6,
   "metadata": {},
   "outputs": [],
   "source": [
    "import datetime as dt\n",
    "int((dt.date(year=2018, month=6, day=3) - dt.date(year=1970, month=1, day=1)).total_seconds() * 1000)\n",
    "\n",
    "# 1527998400000\n",
    "\n",
    "def datetime_to_intsec(datetime):\n",
    "    return int((datetime - dt.date(year=1970, month=1, day=1)).total_seconds() * 1000)"
   ]
  },
  {
   "cell_type": "code",
   "execution_count": 38,
   "metadata": {},
   "outputs": [],
   "source": [
    "query = {\n",
    "  \"modes\": [\n",
    "    {\n",
    "      \"id\": 1\n",
    "    }\n",
    "  ],\n",
    "  \"endDate\": 1528430400000,\n",
    "  \"centerLon\": -83.9207392,\n",
    "  \"pageSize\": None,\n",
    "  \"limitBy\": 500,\n",
    "  \"analytics\": [\n",
    "    {\n",
    "      \"width\": 0,\n",
    "      \"id\": 3,\n",
    "      \"position\": 1,\n",
    "      \"height\": 0\n",
    "    },\n",
    "    {\n",
    "      \"width\": 0,\n",
    "      \"id\": 50,\n",
    "      \"position\": 2,\n",
    "      \"height\": 0\n",
    "    },\n",
    "    {\n",
    "      \"width\": 0,\n",
    "      \"id\": 59,\n",
    "      \"position\": 3,\n",
    "      \"height\": 0\n",
    "    },\n",
    "    {\n",
    "      \"width\": 0,\n",
    "      \"id\": 74,\n",
    "      \"position\": 4,\n",
    "      \"height\": 0\n",
    "    }\n",
    "  ],\n",
    "  \"dataRelation\": \"Primary\",\n",
    "  \"gridStatStamp\": None,\n",
    "  \"pageStart\": None,\n",
    "  \"keywordOption\": \"notes\",\n",
    "  \"zoom\": 10,\n",
    "  \"filters\": [],\n",
    "  \"viewAttributeVersion\": 0,\n",
    "  \"viewIteration\": 55,\n",
    "  \"polygon\": {\n",
    "    \"valid\": True,\n",
    "    \"minLon\": -84.9015264772217,\n",
    "    \"maxLat\": 36.390817111448854,\n",
    "    \"centroid\": {\n",
    "      \"x\": -83.92099669206544,\n",
    "      \"y\": 35.96455923637623,\n",
    "      \"class\": \"com.bairinc.raids.model.dataview.polygon.RaidsPolygon$Point\"\n",
    "    },\n",
    "    \"minLat\": 35.53830136130361,\n",
    "    \"centerLon\": -83.92099669206544,\n",
    "    \"maxLon\": -82.9404669069092,\n",
    "    \"alias\": \"box\",\n",
    "    \"centerLat\": 35.96455923637623,\n",
    "    \"draw\": False\n",
    "  },\n",
    "  \"sortingClause\": [\n",
    "    {\n",
    "      \"pos\": 0,\n",
    "      \"attribute\": {\n",
    "        \"mode\": {\n",
    "          \"classificationGroupName\": None,\n",
    "          \"display\": \"Event\",\n",
    "          \"relational\": False,\n",
    "          \"id\": 1,\n",
    "          \"customClassificationProcessor\": False\n",
    "        },\n",
    "        \"viewId\": \"view62\",\n",
    "        \"displayName\": \"Date\",\n",
    "        \"dataViewName\": \"Date\",\n",
    "        \"id\": 62,\n",
    "        \"hpccWildCardSupport\": False,\n",
    "        \"derived\": False\n",
    "      },\n",
    "      \"order\": False\n",
    "    },\n",
    "    {\n",
    "      \"pos\": 1,\n",
    "      \"attribute\": {\n",
    "        \"mode\": {\n",
    "          \"classificationGroupName\": None,\n",
    "          \"display\": \"Offenders\",\n",
    "          \"relational\": False,\n",
    "          \"id\": 3,\n",
    "          \"customClassificationProcessor\": False\n",
    "        },\n",
    "        \"viewId\": \"view509\",\n",
    "        \"displayName\": \"First Name\",\n",
    "        \"dataViewName\": \"First Name\",\n",
    "        \"id\": 509,\n",
    "        \"hpccWildCardSupport\": False,\n",
    "        \"derived\": False\n",
    "      },\n",
    "      \"order\": False\n",
    "    }\n",
    "  ],\n",
    "  \"dataViewName\": \"grid\",\n",
    "  \"singleMode\": None,\n",
    "  \"centerLat\": 35.9606384,\n",
    "  \"page\": [\n",
    "    {\n",
    "      \"mode\": {\n",
    "        \"classificationGroupName\": None,\n",
    "        \"customClassificationProcessor\": False,\n",
    "        \"display\": \"Event\",\n",
    "        \"id\": 1,\n",
    "        \"relational\": False\n",
    "      },\n",
    "      \"page\": 1,\n",
    "      \"pageCount\": 0,\n",
    "      \"pageSize\": 500,\n",
    "      \"recordCount\": 0\n",
    "    },\n",
    "    {\n",
    "      \"mode\": {\n",
    "        \"classificationGroupName\": None,\n",
    "        \"customClassificationProcessor\": False,\n",
    "        \"display\": \"Offenders\",\n",
    "        \"id\": 3,\n",
    "        \"relational\": False\n",
    "      },\n",
    "      \"page\": 0,\n",
    "      \"pageCount\": 0,\n",
    "      \"pageSize\": 1,\n",
    "      \"recordCount\": 0\n",
    "    }\n",
    "  ],\n",
    "  \"user\": {\n",
    "    \"firstName\": None,\n",
    "    \"lastName\": None,\n",
    "    \"roles\": [\n",
    "      {\n",
    "        \"productId\": None,\n",
    "        \"name\": \"user\"\n",
    "      }\n",
    "    ],\n",
    "    \"dataProviderId\": -1,\n",
    "    \"userID\": -1,\n",
    "    \"email\": \"public@communitycrimemap.com\",\n",
    "    \"singleSignOnEntityId\": None\n",
    "  },\n",
    "  \"filterIterator\": {},\n",
    "  \"startDate\": 1528257600000,\n",
    "  \"classfications\": [\n",
    "    {\n",
    "      \"mode\": {\n",
    "        \"id\": 1\n",
    "      },\n",
    "      \"id\": 8\n",
    "    },\n",
    "    {\n",
    "      \"mode\": {\n",
    "        \"id\": 1\n",
    "      },\n",
    "      \"id\": 20\n",
    "    },\n",
    "    {\n",
    "      \"mode\": {\n",
    "        \"id\": 1\n",
    "      },\n",
    "      \"id\": 27\n",
    "    },\n",
    "    {\n",
    "      \"mode\": {\n",
    "        \"id\": 1\n",
    "      },\n",
    "      \"id\": 26\n",
    "    },\n",
    "    {\n",
    "      \"mode\": {\n",
    "        \"id\": 1\n",
    "      },\n",
    "      \"id\": 18\n",
    "    },\n",
    "    {\n",
    "      \"mode\": {\n",
    "        \"id\": 1\n",
    "      },\n",
    "      \"id\": 9\n",
    "    },\n",
    "    {\n",
    "      \"mode\": {\n",
    "        \"id\": 1\n",
    "      },\n",
    "      \"id\": 2\n",
    "    },\n",
    "    {\n",
    "      \"mode\": {\n",
    "        \"id\": 1\n",
    "      },\n",
    "      \"id\": 10\n",
    "    },\n",
    "    {\n",
    "      \"mode\": {\n",
    "        \"id\": 1\n",
    "      },\n",
    "      \"id\": 11\n",
    "    },\n",
    "    {\n",
    "      \"mode\": {\n",
    "        \"id\": 1\n",
    "      },\n",
    "      \"id\": 17\n",
    "    },\n",
    "    {\n",
    "      \"mode\": {\n",
    "        \"id\": 1\n",
    "      },\n",
    "      \"id\": 19\n",
    "    },\n",
    "    {\n",
    "      \"mode\": {\n",
    "        \"id\": 1\n",
    "      },\n",
    "      \"id\": 3\n",
    "    },\n",
    "    {\n",
    "      \"mode\": {\n",
    "        \"id\": 1\n",
    "      },\n",
    "      \"id\": 22\n",
    "    },\n",
    "    {\n",
    "      \"mode\": {\n",
    "        \"id\": 1\n",
    "      },\n",
    "      \"id\": 21\n",
    "    },\n",
    "    {\n",
    "      \"mode\": {\n",
    "        \"id\": 1\n",
    "      },\n",
    "      \"id\": 13\n",
    "    },\n",
    "    {\n",
    "      \"mode\": {\n",
    "        \"id\": 1\n",
    "      },\n",
    "      \"id\": 1\n",
    "    },\n",
    "    {\n",
    "      \"mode\": {\n",
    "        \"id\": 1\n",
    "      },\n",
    "      \"id\": 16\n",
    "    },\n",
    "    {\n",
    "      \"mode\": {\n",
    "        \"id\": 1\n",
    "      },\n",
    "      \"id\": 6\n",
    "    },\n",
    "    {\n",
    "      \"mode\": {\n",
    "        \"id\": 1\n",
    "      },\n",
    "      \"id\": 7\n",
    "    },\n",
    "    {\n",
    "      \"mode\": {\n",
    "        \"id\": 1\n",
    "      },\n",
    "      \"id\": 4\n",
    "    },\n",
    "    {\n",
    "      \"mode\": {\n",
    "        \"id\": 1\n",
    "      },\n",
    "      \"id\": 5\n",
    "    },\n",
    "    {\n",
    "      \"mode\": {\n",
    "        \"id\": 1\n",
    "      },\n",
    "      \"id\": 14\n",
    "    },\n",
    "    {\n",
    "      \"mode\": {\n",
    "        \"id\": 1\n",
    "      },\n",
    "      \"id\": 12\n",
    "    },\n",
    "    {\n",
    "      \"mode\": {\n",
    "        \"id\": 1\n",
    "      },\n",
    "      \"id\": 15\n",
    "    },\n",
    "    {\n",
    "      \"mode\": {\n",
    "        \"id\": 1\n",
    "      },\n",
    "      \"id\": 23\n",
    "    },\n",
    "    {\n",
    "      \"mode\": {\n",
    "        \"id\": 1\n",
    "      },\n",
    "      \"id\": 24\n",
    "    },\n",
    "    {\n",
    "      \"mode\": {\n",
    "        \"id\": 1\n",
    "      },\n",
    "      \"id\": 25\n",
    "    }\n",
    "  ],\n",
    "  \"primary\": True\n",
    "}"
   ]
  },
  {
   "cell_type": "code",
   "execution_count": 118,
   "metadata": {},
   "outputs": [],
   "source": [
    "def crawl_crime_page_for_date(start_date):\n",
    "    query['startDate'] = datetime_to_intsec(start_date)\n",
    "    query['endDate'] = datetime_to_intsec(start_date + dt.timedelta(days=1))\n",
    "    data = []\n",
    "    \n",
    "    # crawl initial page\n",
    "    query['page'][0]['page'] = 0\n",
    "    query['page'][0]['pageSize'] = 20\n",
    "    \n",
    "    response = session.post(\n",
    "        'http://communitycrimemap.com/Protected/RAIDS/Data/DataGrid.serv', \n",
    "        data={'dataView': json.dumps(query)},\n",
    "        headers={'content-type': 'application/x-www-form-urlencoded'}\n",
    "    )\n",
    "    response_data = response.json()\n",
    "    data.extend(response_data['dataEvents'])\n",
    "    total_num_records = response_data['totalRecordCount']\n",
    "    \n",
    "    #print(total_num_records)\n",
    "    for i in range(21, total_num_records, 20):\n",
    "        query['page'][0]['page'] = i\n",
    "        response = session.post(\n",
    "            'http://communitycrimemap.com/Protected/RAIDS/Data/DataGrid.serv', \n",
    "            data={'dataView': json.dumps(query)},\n",
    "            headers={'content-type': 'application/x-www-form-urlencoded'}\n",
    "        )\n",
    "        response_data = response.json()\n",
    "        data.extend(response_data['dataEvents'])\n",
    "        \n",
    "    df = pd.DataFrame(data)\n",
    "    return df.set_index('view34')"
   ]
  },
  {
   "cell_type": "code",
   "execution_count": 110,
   "metadata": {},
   "outputs": [],
   "source": [
    "craweled_dates = {}"
   ]
  },
  {
   "cell_type": "code",
   "execution_count": 141,
   "metadata": {},
   "outputs": [],
   "source": [
    "for i in range(10 * 365):\n",
    "    start_date = dt.date(year=2018, month=6, day=8) - dt.timedelta(days=i)\n",
    "    if start_date in craweled_dates:\n",
    "        continue\n",
    "    craweled_dates[start_date] = crawl_crime_page_for_date(start_date)"
   ]
  },
  {
   "cell_type": "code",
   "execution_count": 142,
   "metadata": {},
   "outputs": [
    {
     "name": "stdout",
     "output_type": "stream",
     "text": [
      "10.0\n"
     ]
    }
   ],
   "source": [
    "print(len(craweled_dates) / 365)"
   ]
  },
  {
   "cell_type": "code",
   "execution_count": 169,
   "metadata": {},
   "outputs": [],
   "source": [
    "view_map = {\n",
    "    'view34': 'incident',\n",
    "    'view35': 'crime',\n",
    "    'view36': 'location',\n",
    "    'view62': 'datetime',\n",
    "    'view82': 'latitude',\n",
    "    'view81': 'longitude',\n",
    "    'view96': 'address',\n",
    "    'view85': 'accuracy',\n",
    "    'view86': 'image',\n",
    "    'view84': 'agency',\n",
    "    'view182': 'date',\n",
    "}\n",
    "df = pd.concat(list(craweled_dates.values())).rename(columns=view_map)\n",
    "df['date'] = pd.to_datetime(df['date'], format=\"%m/%d/%Y\")\n",
    "df['datetime'] = pd.to_datetime(df['datetime'], format=\"%b %d, %Y %I:%M %p\")\n",
    "df.drop('image', axis=1, inplace=True)"
   ]
  },
  {
   "cell_type": "code",
   "execution_count": null,
   "metadata": {},
   "outputs": [],
   "source": []
  },
  {
   "cell_type": "code",
   "execution_count": 171,
   "metadata": {},
   "outputs": [],
   "source": [
    "df.to_csv('../data/crime/crime.csv')"
   ]
  },
  {
   "cell_type": "code",
   "execution_count": 170,
   "metadata": {},
   "outputs": [
    {
     "name": "stdout",
     "output_type": "stream",
     "text": [
      "<class 'pandas.core.frame.DataFrame'>\n",
      "Index: 848703 entries, C18077533 to 08-025215\n",
      "Data columns (total 12 columns):\n",
      "view174      848703 non-null object\n",
      "view175      848703 non-null int64\n",
      "view177      848703 non-null int64\n",
      "date         848703 non-null datetime64[ns]\n",
      "crime        848703 non-null object\n",
      "location     645616 non-null object\n",
      "datetime     848703 non-null datetime64[ns]\n",
      "longitude    848703 non-null float64\n",
      "latitude     848703 non-null float64\n",
      "agency       848703 non-null object\n",
      "accuracy     848703 non-null object\n",
      "address      841704 non-null object\n",
      "dtypes: datetime64[ns](2), float64(2), int64(2), object(6)\n",
      "memory usage: 84.2+ MB\n"
     ]
    }
   ],
   "source": [
    "df.info()"
   ]
  },
  {
   "cell_type": "code",
   "execution_count": 156,
   "metadata": {},
   "outputs": [
    {
     "data": {
      "text/plain": [
       "view34\n",
       "C18077533     06/08/2018\n",
       "C18077515     06/08/2018\n",
       "C18077500     06/08/2018\n",
       "1806070532    06/08/2018\n",
       "C18077492     06/08/2018\n",
       "C18077465     06/08/2018\n",
       "1806070523    06/08/2018\n",
       "C18077447     06/08/2018\n",
       "1806070529    06/08/2018\n",
       "1806070522    06/08/2018\n",
       "C18077442     06/08/2018\n",
       "C18077440     06/08/2018\n",
       "C18077435     06/08/2018\n",
       "C18077434     06/08/2018\n",
       "C18077422     06/08/2018\n",
       "C18077418     06/08/2018\n",
       "C18077417     06/08/2018\n",
       "C18077413     06/08/2018\n",
       "C18077412     06/08/2018\n",
       "C18077406     06/08/2018\n",
       "1806070519    06/08/2018\n",
       "C18077401     06/08/2018\n",
       "C18077400     06/08/2018\n",
       "C18077379     06/08/2018\n",
       "C18077376     06/08/2018\n",
       "A18008482     06/07/2018\n",
       "C18077359     06/08/2018\n",
       "A18008481     06/07/2018\n",
       "C18077356     06/08/2018\n",
       "C18077354     06/08/2018\n",
       "                 ...    \n",
       "08-031331     02/15/2012\n",
       "08-025724     02/15/2012\n",
       "08-025209     02/15/2012\n",
       "08-025544     02/15/2012\n",
       "08-025198     02/15/2012\n",
       "A157949       02/15/2012\n",
       "56354         03/02/2016\n",
       "08-025186     02/15/2012\n",
       "56250         05/06/2016\n",
       "08-025187     02/15/2012\n",
       "56251         03/02/2016\n",
       "08-025777     02/15/2012\n",
       "56262         03/02/2016\n",
       "0806100757    05/12/2016\n",
       "56834         04/22/2016\n",
       "08-025232     02/15/2012\n",
       "08-025166     02/15/2012\n",
       "08-025159     02/15/2012\n",
       "08-025162     02/15/2012\n",
       "08-025157     02/15/2012\n",
       "08-025156     02/15/2012\n",
       "08-025154     02/15/2012\n",
       "08-025160     02/15/2012\n",
       "08-025151     02/15/2012\n",
       "08-025254     02/15/2012\n",
       "09-0101479    02/15/2012\n",
       "08-025274     02/15/2012\n",
       "08-030641     02/15/2012\n",
       "08-025371     02/15/2012\n",
       "08-025215     02/15/2012\n",
       "Name: date, Length: 848703, dtype: object"
      ]
     },
     "execution_count": 156,
     "metadata": {},
     "output_type": "execute_result"
    }
   ],
   "source": [
    "df['date']"
   ]
  },
  {
   "cell_type": "code",
   "execution_count": 166,
   "metadata": {},
   "outputs": [
    {
     "data": {
      "text/plain": [
       "view34\n",
       "C18077533     Jun 08, 2018 12:03 AM\n",
       "C18077515     Jun 07, 2018 10:47 PM\n",
       "C18077500      Jun 07, 2018 9:43 PM\n",
       "1806070532     Jun 07, 2018 9:42 PM\n",
       "C18077492      Jun 07, 2018 9:28 PM\n",
       "C18077465      Jun 07, 2018 8:47 PM\n",
       "1806070523     Jun 07, 2018 8:15 PM\n",
       "C18077447      Jun 07, 2018 8:12 PM\n",
       "1806070529     Jun 07, 2018 8:12 PM\n",
       "1806070522     Jun 07, 2018 8:12 PM\n",
       "C18077442      Jun 07, 2018 8:00 PM\n",
       "C18077440      Jun 07, 2018 7:58 PM\n",
       "C18077435      Jun 07, 2018 7:49 PM\n",
       "C18077434      Jun 07, 2018 7:49 PM\n",
       "C18077422      Jun 07, 2018 7:35 PM\n",
       "C18077418      Jun 07, 2018 7:11 PM\n",
       "C18077417      Jun 07, 2018 7:10 PM\n",
       "C18077413      Jun 07, 2018 7:05 PM\n",
       "C18077412      Jun 07, 2018 7:04 PM\n",
       "C18077406      Jun 07, 2018 6:50 PM\n",
       "1806070519     Jun 07, 2018 6:31 PM\n",
       "C18077401      Jun 07, 2018 6:31 PM\n",
       "C18077400      Jun 07, 2018 6:29 PM\n",
       "C18077379      Jun 07, 2018 5:38 PM\n",
       "C18077376      Jun 07, 2018 5:29 PM\n",
       "A18008482      Jun 07, 2018 4:46 PM\n",
       "C18077359      Jun 07, 2018 4:41 PM\n",
       "A18008481      Jun 07, 2018 4:37 PM\n",
       "C18077356      Jun 07, 2018 4:35 PM\n",
       "C18077354      Jun 07, 2018 4:34 PM\n",
       "                      ...          \n",
       "08-031331     Jun 10, 2008 12:00 PM\n",
       "08-025724     Jun 10, 2008 12:00 PM\n",
       "08-025209     Jun 10, 2008 11:42 AM\n",
       "08-025544     Jun 10, 2008 11:42 AM\n",
       "08-025198     Jun 10, 2008 10:34 AM\n",
       "A157949       Jun 10, 2008 10:30 AM\n",
       "56354         Jun 10, 2008 10:00 AM\n",
       "08-025186      Jun 10, 2008 9:22 AM\n",
       "56250          Jun 10, 2008 9:08 AM\n",
       "08-025187      Jun 10, 2008 9:00 AM\n",
       "56251          Jun 10, 2008 8:50 AM\n",
       "08-025777      Jun 10, 2008 8:00 AM\n",
       "56262          Jun 10, 2008 7:50 AM\n",
       "0806100757     Jun 10, 2008 6:45 AM\n",
       "56834          Jun 10, 2008 6:00 AM\n",
       "08-025232      Jun 10, 2008 5:30 AM\n",
       "08-025166      Jun 10, 2008 3:00 AM\n",
       "08-025159      Jun 10, 2008 2:00 AM\n",
       "08-025162      Jun 10, 2008 1:40 AM\n",
       "08-025157      Jun 10, 2008 1:30 AM\n",
       "08-025156      Jun 10, 2008 1:27 AM\n",
       "08-025154      Jun 10, 2008 1:16 AM\n",
       "08-025160     Jun 10, 2008 12:30 AM\n",
       "08-025151     Jun 10, 2008 12:11 AM\n",
       "08-025254     Jun 10, 2008 12:05 AM\n",
       "09-0101479    Jun 10, 2008 12:01 AM\n",
       "08-025274     Jun 10, 2008 12:01 AM\n",
       "08-030641     Jun 10, 2008 12:01 AM\n",
       "08-025371     Jun 10, 2008 12:01 AM\n",
       "08-025215     Jun 10, 2008 12:01 AM\n",
       "Name: datetime, Length: 848703, dtype: object"
      ]
     },
     "execution_count": 166,
     "metadata": {},
     "output_type": "execute_result"
    }
   ],
   "source": [
    "#s= pd.to_datetime(df['date'], format=\"%m/%d/%Y\")\n",
    "#pd.to_datetime(df['datetime'], format=\"%b %d, %Y %I:%M %p\")\n",
    "df['datetime']"
   ]
  },
  {
   "cell_type": "code",
   "execution_count": 163,
   "metadata": {},
   "outputs": [
    {
     "data": {
      "text/plain": [
       "2012    217572\n",
       "2016    206036\n",
       "2017    180916\n",
       "2018     89773\n",
       "2013     61222\n",
       "2014     48620\n",
       "2015     44564\n",
       "Name: date, dtype: int64"
      ]
     },
     "execution_count": 163,
     "metadata": {},
     "output_type": "execute_result"
    }
   ],
   "source": [
    "s.dt.year.value_counts()"
   ]
  },
  {
   "cell_type": "code",
   "execution_count": 83,
   "metadata": {},
   "outputs": [
    {
     "data": {
      "text/plain": [
       "{'User-Agent': 'python-requests/2.18.4', 'Accept-Encoding': 'gzip, deflate', 'Accept': '*/*', 'Connection': 'keep-alive', 'content-type': 'application/x-www-form-urlencoded', 'Cookie': 'JSESSIONID=DF3EC75308239378D179F8BF0F5AACA4.APP102', 'Content-Length': '4990'}"
      ]
     },
     "execution_count": 83,
     "metadata": {},
     "output_type": "execute_result"
    }
   ],
   "source": [
    "response.request.headers"
   ]
  },
  {
   "cell_type": "code",
   "execution_count": 84,
   "metadata": {},
   "outputs": [],
   "source": [
    "data = response.json()"
   ]
  },
  {
   "cell_type": "code",
   "execution_count": 85,
   "metadata": {},
   "outputs": [
    {
     "data": {
      "text/plain": [
       "20"
      ]
     },
     "execution_count": 85,
     "metadata": {},
     "output_type": "execute_result"
    }
   ],
   "source": [
    "len(data['dataEvents'])"
   ]
  },
  {
   "cell_type": "code",
   "execution_count": 86,
   "metadata": {},
   "outputs": [
    {
     "data": {
      "text/plain": [
       "{'view34': '1806070001',\n",
       " 'view35': '13A Aggravated Assault',\n",
       " 'view36': 'RESIDENCE / HOME',\n",
       " 'view62': 'Jun 03, 2018 8:56 PM',\n",
       " 'view81': -83.9013,\n",
       " 'view82': 35.9787,\n",
       " 'view84': 'Knoxville Police Department',\n",
       " 'view85': 'Address',\n",
       " 'view86': \"<img height='16px' width='16px' src='http://communitycrimemap.com/images/icons/key/aggravated-assault.png'>\",\n",
       " 'view96': '21XX Mccalla Ave',\n",
       " 'view174': '0',\n",
       " 'view175': 114,\n",
       " 'view177': 0,\n",
       " 'view182': '06/07/2018'}"
      ]
     },
     "execution_count": 86,
     "metadata": {},
     "output_type": "execute_result"
    }
   ],
   "source": [
    "data['dataEvents'][0]"
   ]
  },
  {
   "cell_type": "code",
   "execution_count": 66,
   "metadata": {},
   "outputs": [
    {
     "data": {
      "text/plain": [
       "{'view34': 'C18075117',\n",
       " 'view35': 'ALARM',\n",
       " 'view36': 'MASCOT LIBRARY F17',\n",
       " 'view62': 'Jun 03, 2018 11:16 PM',\n",
       " 'view81': -83.7436,\n",
       " 'view82': 36.0621,\n",
       " 'view84': \"Knox County Sheriff's Office\",\n",
       " 'view85': 'Address',\n",
       " 'view86': \"<img height='16px' width='16px' src='http://communitycrimemap.com/images/icons/key/other-non-criminal.png'>\",\n",
       " 'view96': '19XX LIBRARY DR',\n",
       " 'view174': '0',\n",
       " 'view175': 113,\n",
       " 'view177': 0,\n",
       " 'view182': '06/08/2018'}"
      ]
     },
     "execution_count": 66,
     "metadata": {},
     "output_type": "execute_result"
    }
   ],
   "source": [
    "data['dataEvents'][1]"
   ]
  },
  {
   "cell_type": "code",
   "execution_count": 44,
   "metadata": {},
   "outputs": [
    {
     "data": {
      "text/plain": [
       "902"
      ]
     },
     "execution_count": 44,
     "metadata": {},
     "output_type": "execute_result"
    }
   ],
   "source": [
    "data['totalRecordCount']"
   ]
  },
  {
   "cell_type": "code",
   "execution_count": null,
   "metadata": {},
   "outputs": [],
   "source": []
  }
 ],
 "metadata": {
  "kernelspec": {
   "display_name": "Python 3",
   "language": "python",
   "name": "python3"
  },
  "language_info": {
   "codemirror_mode": {
    "name": "ipython",
    "version": 3
   },
   "file_extension": ".py",
   "mimetype": "text/x-python",
   "name": "python",
   "nbconvert_exporter": "python",
   "pygments_lexer": "ipython3",
   "version": "3.6.5"
  }
 },
 "nbformat": 4,
 "nbformat_minor": 2
}
