{
 "cells": [
  {
   "cell_type": "markdown",
   "metadata": {},
   "source": [
    "# Welcome to the Knoxville Open Data notebook!\n",
    "\n",
    "You will find links to all the data and available notebooks that have some simple analysis already."
   ]
  },
  {
   "cell_type": "markdown",
   "metadata": {},
   "source": [
    "# Available Notebooks\n",
    "\n",
    "Keep in mind that these notebooks do come with parsers to collect the data. **I advise you not to use them**. Some data is already available through [LFS](https://git-lfs.github.com/) and some is provided by the city of knoxville through arcgis. Each notebook comes with scripts for downloading each dataset. So that there is no need to repeat the task of web scraping and parsing.\n",
    "\n",
    " - [Greenways and Trails](trails.ipynb) 4 MB of data\n",
    " - [Parks](parks.ipynb) < 1MB\n",
    " - [Zoning](zoning.ipynb) 13 MB\n",
    " - [311 statistics](311.ipynb) <1 MB\n",
    " - [crime statistics](crime.ipynb) 200 MB (1 Million Rows)\n",
    " - [trees, future trees, and property](trees.ipynb) 200MB"
   ]
  },
  {
   "cell_type": "markdown",
   "metadata": {},
   "source": [
    "# Resources\n",
    "\n",
    "## knoxmpc.org/opendata\n",
    "\n",
    "Metropolitan Planning Commission (MPC) collects data to support its\n",
    "planning efforts in Knoxville and Knox County. This data is not just\n",
    "valuable to our agency, it is valuable to Knox County citizens.\n",
    "\n",
    " - [X] [Greenwas and Trails](https://knoxgis.maps.arcgis.com/home/item.html?id=5c1c99f1e6f94e60aec8325646473ab3)\n",
    "\n",
    " - [X] [Parks](https://knoxgis.maps.arcgis.com/home/item.html?id=2e82b2c2576441d6973dacad3173d36e)\n",
    " \n",
    " - [X] [Knoxville County Zoning](https://knoxgis.maps.arcgis.com/home/item.html?id=ca4ac10098dd4de995b16312c83665f4)\n",
    "\n",
    "## knoxvilletn.gov/government/opendata\n",
    "\n",
    "Here are some the data sources listed on the [knoxville open data website](http://knoxvilletn.gov/government/opendata/). A checked item indicates that the data has been parsed or is being worked on.\n",
    "\n",
    " - [X] [311 Performance Measures: Monthly reports of 311 requests](http://knoxvilletn.gov/government/city_departments_offices/311/performance_measures/)\n",
    "\n",
    " - [ ] [Blight Data Dashboard: Dashboard showing the City's effort to quantify and reduce the number of blighted properties within the City.](http://knoxvilletn.gov/cms/One.aspx?portalId=109562&pageId=9969128)\n",
    "\n",
    " - [ ] [Budget: View adopted operating budget files from 2001-2017.](http://knoxvilletn.gov/government/city_departments_offices/Finance/budget/budget_archive/)\n",
    "\n",
    " - [ ] [City Council Agendas/Minutes: Agenda files and meeting minutes are available for past and current City Council meetings and Beer Board meetings](http://knoxvilletn.gov/citycouncil)\n",
    "\n",
    " - [X] [Crime Map: View local crime stats on the LexisNexis Community Crime Map](http://communitycrimemap.com/?address=Knoxville,TN)\n",
    "\n",
    " - [ ] [East Tennessee Index: The East Tennessee Index compiles demographic, workforce, housing, socioeconomic and other data for a nine-county region around Knoxville.](http://etindex.org/)\n",
    "\n",
    " - [ ] [Homemaker Program: A list of vacant lots and lots with substandard structures for sale by the City to individuals, non-profit organizations and businesses](http://knoxvilletn.gov/government/city_departments_offices/community_development/homemaker_program/)\n",
    "\n",
    " - [ ] [KGIS Maps: Detailed, searchable maps show every property in Knoxville and Knox County, with information on property owner, sales price, zoning and other data.](http://www.kgis.org/kgismaps/Map.htm)\n",
    "\n",
    " - [ ] [KnoxHMIS: Informational resource on the issue of homelessness and the performance of homeless service providers in Knoxville](http://www.knoxhmis.org/dashboard/)\n",
    "\n",
    " - [ ] [Knoxville Area Transit (KAT) GTFS Feed: Our transit data is available in the General Transit Feed Specification (GTFS). This data set includes schedule data for all fixed routes of Knoxville Area Transit (KAT).](http://knoxvilletn.gov/cms/One.aspx?portalId=109562&pageId=11688599)\n",
    "\n",
    " - [ ] [NPDES Reports: National Pollutant Discharge Elimination System Reports submitted by the City's Stormwater Engineering Division](http://knoxvilletn.gov/government/city_departments_offices/engineering/stormwater_engineering_division/npdes_program/npdes_reports/)\n",
    "\n",
    " - [ ] [Police Advisory and Review Committee: PARC compiles its annual reports and meeting agendas and minutes.](http://knoxvilletn.gov/government/city_departments_offices/police_department/kpd_open_records_page/)\n",
    "\n",
    " - [ ] [Police Department: The Knoxville Police Department compiles information on Biased Based Policing, Officer Involved Shootings, Vehicle Flight Response and other metrics.](http://knoxvilletn.gov/government/city_departments_offices/police_department/kpd_open_records_page/)\n",
    "\n",
    " - [ ] [Property Tax Database - City: Search the City property tax database.](https://propertytax.knoxvilletn.gov/)\n",
    "\n",
    " - [ ] [Property Tax Database - County: Search the County property tax database.](http://www.knoxcounty.org/apps/tax_search/)\n",
    "\n",
    " - [ ] [Public Improvement Projects: Find information on current infrastructure projects from various City departments.](http://knoxvilletn.gov/projects)\n",
    "\n",
    " - [ ] [Rainfall Data: Rainfall data collected and maintained by the City's Stormwater Engineering Division](http://knoxvilletn.gov/government/city_departments_offices/engineering/stormwater_engineering_division/rainfall_data/)\n",
    "\n",
    " - [ ] [TIFs and PILOTs: You can find full details of all projects that have received City assistance in the form of Tax-Increment Financing and Payments In Lieu of Taxes.](http://knoxvilletn.gov/cms/One.aspx?portalId=109562&pageId=201883)\n",
    "\n",
    " - [X] [Tree Inventory: You can see a map of every tree on public property in the City of Knoxville identified by species. You can even send an email to your favorite tree!](http://www.kgis.org/maps/treeinventory.html)\n"
   ]
  },
  {
   "cell_type": "code",
   "execution_count": null,
   "metadata": {},
   "outputs": [],
   "source": []
  }
 ],
 "metadata": {
  "kernelspec": {
   "display_name": "Python 3",
   "language": "python",
   "name": "python3"
  },
  "language_info": {
   "codemirror_mode": {
    "name": "ipython",
    "version": 3
   },
   "file_extension": ".py",
   "mimetype": "text/x-python",
   "name": "python",
   "nbconvert_exporter": "python",
   "pygments_lexer": "ipython3",
   "version": "3.6.5"
  }
 },
 "nbformat": 4,
 "nbformat_minor": 2
}
